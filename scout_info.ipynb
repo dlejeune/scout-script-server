{
 "cells": [
  {
   "cell_type": "code",
   "execution_count": 3,
   "metadata": {},
   "outputs": [],
   "source": [
    "import pandas as pd\n",
    "import numpy as np\n",
    "def trim_name(name_str):\n",
    "    name_arr = name_str.split(\" \")\n",
    "    initial = name_arr[1][0:1]\n",
    "\n",
    "    return \"{} {}\".format(name_arr[0], initial)\n",
    "\n",
    "FULL = True"
   ]
  },
  {
   "cell_type": "code",
   "execution_count": 4,
   "metadata": {},
   "outputs": [],
   "source": [
    "df = pd.read_excel(\"data.xlsx\")\n",
    "df = df.drop([\"Actions\", \"Image\"], axis = 1)\n",
    "df[[\"Name\", \"ID\", \"Account\", \"Contact\"]] = df[\"Name\"].str.split(\"|\", 3, expand = True)\n",
    "df[[\"Temp1\", \"Temp2\", \"dob\"]] = df[\"Age\"].str.split(r\"(\\sDOB:\\s)\", 1, expand = True)\n",
    "df = df.drop([\"Temp1\", \"Temp2\"], axis = 1)\n",
    "df[\"dob\"] = pd.to_datetime(df[\"dob\"])\n",
    "\n",
    "df[[\"Email\", \"Phone\"]] =  df[\"Contact\"].str.split(\"|\", 2, expand = True)\n",
    "df = df.drop([\"Contact\"], axis = 1)\n",
    "\n",
    "df[[\"DateInvested\", \"Temp1\"]] = df[\"Invested\"].str.split(\"|\", 0, expand = True)\n",
    "df = df.drop([\"Temp1\"], axis = 1)\n",
    "\n",
    "\n",
    "\n",
    "df[[\"Patrol\", \"Temp1\"]] = df[\"Patrol\"].str.split(\"|\", 0, expand = True)\n",
    "df = df.drop([\"Temp1\"], axis = 1)\n",
    "\n",
    "\n",
    "df = df.drop([\"Age\", \"Invested\"], axis = 1)\n",
    "\n",
    "df[[\"Name\", \"Surname\"]] = df[\"Name\"].str.split(\" \", 1, expand = True)\n",
    "\n",
    "df[[\"Patrol\", \"Role\", \"Gender\"]]= df[[\"Patrol\", \"Role\", \"Gender\"]].astype(\"category\")"
   ]
  },
  {
   "cell_type": "code",
   "execution_count": 5,
   "metadata": {},
   "outputs": [],
   "source": [
    "df[\"Role\"] = df[\"Role\"].cat.reorder_categories(['Patrol Leader', 'Patrol Member', 'Assistant Patrol Leader'])"
   ]
  },
  {
   "cell_type": "code",
   "execution_count": 6,
   "metadata": {},
   "outputs": [
    {
     "data": {
      "text/plain": [
       "Index(['Patrol Leader', 'Patrol Member', 'Assistant Patrol Leader'], dtype='object')"
      ]
     },
     "execution_count": 6,
     "metadata": {},
     "output_type": "execute_result"
    }
   ],
   "source": [
    "df[\"Role\"].cat.categories"
   ]
  },
  {
   "cell_type": "code",
   "execution_count": 7,
   "metadata": {},
   "outputs": [],
   "source": [
    "df[\"FullName\"] = df[\"Name\"] + \" \" + df[\"Surname\"]\n",
    "df[\"FullName\"] = df[\"FullName\"].str.strip()"
   ]
  },
  {
   "cell_type": "code",
   "execution_count": 8,
   "metadata": {},
   "outputs": [],
   "source": [
    "df = df.sort_values(by = [\"Patrol\", \"Role\", \"dob\"], ascending = [True, True, False])"
   ]
  },
  {
   "cell_type": "code",
   "execution_count": 9,
   "metadata": {},
   "outputs": [],
   "source": [
    "out_df = df[[\"Name\", \"FullName\", \"Patrol\"]]\n",
    "out_df.to_clipboard()"
   ]
  },
  {
   "cell_type": "code",
   "execution_count": 10,
   "metadata": {},
   "outputs": [
    {
     "data": {
      "text/plain": [
       "Index(['Name', 'Patrol', 'Role', 'Gender', 'ID', 'Account', 'dob', 'Email',\n",
       "       'Phone', 'DateInvested', 'Surname', 'FullName'],\n",
       "      dtype='object')"
      ]
     },
     "execution_count": 10,
     "metadata": {},
     "output_type": "execute_result"
    }
   ],
   "source": [
    "df.columns"
   ]
  },
  {
   "cell_type": "code",
   "execution_count": 11,
   "metadata": {},
   "outputs": [],
   "source": [
    "out_df = df[[\"Name\", \"Surname\", \"FullName\", \"Patrol\", \"Gender\", \"DateInvested\", \"dob\", \"Email\", 'Phone', 'Role', 'ID', 'Account']]\n",
    "out_df.to_clipboard()"
   ]
  }
 ],
 "metadata": {
  "interpreter": {
   "hash": "9518128f597d7b00dc14729602cfd87fb7b2cf75925976bcb0d0e328a830a12b"
  },
  "kernelspec": {
   "display_name": "Python 3.9.4 64-bit",
   "language": "python",
   "name": "python3"
  },
  "language_info": {
   "codemirror_mode": {
    "name": "ipython",
    "version": 3
   },
   "file_extension": ".py",
   "mimetype": "text/x-python",
   "name": "python",
   "nbconvert_exporter": "python",
   "pygments_lexer": "ipython3",
   "version": "3.9.6"
  },
  "orig_nbformat": 4
 },
 "nbformat": 4,
 "nbformat_minor": 2
}
