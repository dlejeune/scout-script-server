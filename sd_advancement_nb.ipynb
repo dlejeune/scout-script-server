{
 "cells": [
  {
   "cell_type": "code",
   "execution_count": 330,
   "metadata": {},
   "outputs": [],
   "source": [
    "import pandas as pd\n",
    "from create_advancement_sheets import AdvancementUtils\n",
    "import pandas.io.formats.excel\n",
    "utils = AdvancementUtils()\n",
    "\n",
    "\n",
    "pandas.io.formats.excel.header_style = None"
   ]
  },
  {
   "cell_type": "code",
   "execution_count": 331,
   "metadata": {},
   "outputs": [],
   "source": [
    "df = utils.read_sheet(\"data.xlsx\", True)\n",
    "df = utils.pivot_names_horizontal(df)"
   ]
  },
  {
   "cell_type": "code",
   "execution_count": 332,
   "metadata": {},
   "outputs": [],
   "source": [
    "bats = df.loc[:, (\"Bateleurs\")]\n",
    "bats = bats.reset_index()"
   ]
  },
  {
   "cell_type": "code",
   "execution_count": 333,
   "metadata": {},
   "outputs": [
    {
     "data": {
      "text/plain": [
       "Index(['Membership', 'Traveller', 'Discoverer', '1st Class', 'Springbok'], dtype='object')"
      ]
     },
     "execution_count": 333,
     "metadata": {},
     "output_type": "execute_result"
    }
   ],
   "source": [
    "bats.Level.cat.categories"
   ]
  },
  {
   "cell_type": "code",
   "execution_count": 334,
   "metadata": {},
   "outputs": [
    {
     "data": {
      "text/plain": [
       "7"
      ]
     },
     "execution_count": 334,
     "metadata": {},
     "output_type": "execute_result"
    }
   ],
   "source": [
    "len(bats.loc[(bats.Level == \"Traveller\") & (bats.Theme == \"Safety\"), :])"
   ]
  },
  {
   "cell_type": "code",
   "execution_count": 335,
   "metadata": {},
   "outputs": [],
   "source": [
    "levels = [\"Membership\", \"Traveller\", \"Discoverer\", \"1st Class\", \"Springbok\"]\n",
    "themes = [\"Safety\", \"Living Outdoors\", \"Adventure\", \"Scout Skills\", \"Service\", \"Personal Dev\"]"
   ]
  },
  {
   "cell_type": "code",
   "execution_count": 336,
   "metadata": {},
   "outputs": [],
   "source": [
    "writer = pd.ExcelWriter(\"test.xlsx\", engine='xlsxwriter')"
   ]
  },
  {
   "cell_type": "code",
   "execution_count": 337,
   "metadata": {},
   "outputs": [],
   "source": [
    "first_row_df = 1\n",
    "bats.to_excel(writer, sheet_name = \"Bats\", index=False, startrow=first_row_df)"
   ]
  },
  {
   "cell_type": "code",
   "execution_count": 338,
   "metadata": {},
   "outputs": [],
   "source": [
    "workbook = writer.book\n",
    "worksheet = writer.sheets[\"Bats\"]\n"
   ]
  },
  {
   "cell_type": "code",
   "execution_count": 339,
   "metadata": {},
   "outputs": [],
   "source": [
    "worksheet.set_portrait()\n",
    "worksheet.set_paper(8)\n",
    "worksheet.set_margins(0.25, 0.25, 0.25, 0.25)"
   ]
  },
  {
   "cell_type": "code",
   "execution_count": 340,
   "metadata": {},
   "outputs": [],
   "source": [
    "level_format = workbook.add_format({\"bold\": True, \"font_size\": 14, \"font_name\": \"Verdana\", \"align\": \"center\", \"valign\":\"vcenter\", \"rotation\":90})\n",
    "theme_format = workbook.add_format({\"bold\": True, \"font_size\": 12, \"font_name\": \"Verdana\", \"align\": \"center\", \"valign\":\"vcenter\", \"rotation\":90, \"text_wrap\": True})\n",
    "requirement_fmt = workbook.add_format({\"font_size\": 10, \"font_name\": \"Verdana\", \"align\": \"horizontal\", \"valign\":\"vcenter\"})\n",
    "true_format = workbook.add_format({\"font_color\": \"black\", \"bg_color\": \"black\"})\n",
    "false_format = workbook.add_format({\"font_color\": \"white\", \"bg_color\": \"white\"})\n",
    "header_format = workbook.add_format({\"bold\": True, \"font_size\": 9, \"font_name\": \"Verdana\", \"align\": \"center\", \"valign\":\"vcenter\", \"text_wrap\": True})\n",
    "border_format = workbook.add_format({\"border\": 1})\n",
    "title_format = workbook.add_format({\"bold\": True, \"font_size\": 20, \"font_name\": \"Verdana\", \"align\": \"center\", \"valign\":\"vcenter\"})"
   ]
  },
  {
   "cell_type": "code",
   "execution_count": 341,
   "metadata": {},
   "outputs": [],
   "source": [
    "## Merging levels\n",
    "\n",
    "start_row = first_row_df + 2\n",
    "for level in levels:\n",
    "    end_row = start_row + len(bats.loc[bats.Level == level, :])\n",
    "    worksheet.merge_range(\"A{}:A{}\".format(start_row, end_row-1), level, level_format)\n",
    "    start_row = end_row"
   ]
  },
  {
   "cell_type": "code",
   "execution_count": 342,
   "metadata": {},
   "outputs": [],
   "source": [
    "## Merging themes\n",
    "worksheet.merge_range(\"B{}:B{}\".format(first_row_df+2, first_row_df+7), \"\", theme_format)\n",
    "start_row =  first_row_df + 8 # inclusive\n",
    "for level in levels[1:]:\n",
    "    for theme in themes:\n",
    "        end_row = start_row + len(bats.loc[(bats.Level == level) & (bats.Theme == theme), :])\n",
    "        if end_row - start_row  > 1:\n",
    "            worksheet.merge_range(\"B{}:B{}\".format(start_row, end_row-1), theme, theme_format)\n",
    "        else:\n",
    "            worksheet.write(\"B{}\".format(start_row), theme, theme_format)\n",
    "        start_row = end_row"
   ]
  },
  {
   "cell_type": "code",
   "execution_count": 343,
   "metadata": {},
   "outputs": [
    {
     "data": {
      "text/plain": [
       "0"
      ]
     },
     "execution_count": 343,
     "metadata": {},
     "output_type": "execute_result"
    }
   ],
   "source": [
    "worksheet.set_column('A:A', 5)\n",
    "worksheet.set_column('B:B', 5)\n",
    "worksheet.set_column('C:C', 30, requirement_fmt)"
   ]
  },
  {
   "cell_type": "code",
   "execution_count": 344,
   "metadata": {},
   "outputs": [
    {
     "data": {
      "text/plain": [
       "0"
      ]
     },
     "execution_count": 344,
     "metadata": {},
     "output_type": "execute_result"
    }
   ],
   "source": [
    "full_data_range = \"A{}:{}{}\".format(first_row_df+1, \"J\", first_row_df+134)\n",
    "pass_range = \"D{}:{}{}\".format(first_row_df+2, \"J\", first_row_df+134)\n",
    "\n",
    "worksheet.conditional_format(pass_range, {'type':     'cell',\n",
    "                                        'criteria': '=',\n",
    "                                        'value':    True,\n",
    "                                        'format':   true_format})\n",
    "\n",
    "worksheet.conditional_format(pass_range, {'type':     'cell',\n",
    "                                        'criteria': '=',\n",
    "                                        'value':    False,\n",
    "                                        'format':   false_format})\n",
    "\n",
    "worksheet.conditional_format(full_data_range, {\"type\": \"no_blanks\", \"format\": border_format})                                        "
   ]
  },
  {
   "cell_type": "code",
   "execution_count": 345,
   "metadata": {},
   "outputs": [
    {
     "data": {
      "text/plain": [
       "0"
      ]
     },
     "execution_count": 345,
     "metadata": {},
     "output_type": "execute_result"
    }
   ],
   "source": [
    "worksheet.set_column(4, len(bats.columns.to_list())-4, 90//7)"
   ]
  },
  {
   "cell_type": "code",
   "execution_count": 346,
   "metadata": {},
   "outputs": [],
   "source": [
    "\n",
    "for i in range(first_row_df+1, 135):\n",
    "    worksheet.set_row_pixels(i, 25)"
   ]
  },
  {
   "cell_type": "code",
   "execution_count": 347,
   "metadata": {},
   "outputs": [
    {
     "data": {
      "text/plain": [
       "0"
      ]
     },
     "execution_count": 347,
     "metadata": {},
     "output_type": "execute_result"
    }
   ],
   "source": [
    "header_to_write = bats.columns.to_list()\n",
    "header_to_write[0] = \" \"\n",
    "header_to_write[1] = \" \"\n",
    "\n",
    "worksheet.write_row(first_row_df, 0, header_to_write)\n",
    "worksheet.set_row_pixels(first_row_df, 40, header_format)"
   ]
  },
  {
   "cell_type": "code",
   "execution_count": 348,
   "metadata": {},
   "outputs": [
    {
     "data": {
      "text/plain": [
       "0"
      ]
     },
     "execution_count": 348,
     "metadata": {},
     "output_type": "execute_result"
    }
   ],
   "source": [
    "worksheet.set_row_pixels(0, 40)\n",
    "worksheet.merge_range(\"A1:J1\", \"Bats Advancement\", title_format)"
   ]
  },
  {
   "cell_type": "code",
   "execution_count": 349,
   "metadata": {},
   "outputs": [],
   "source": [
    "writer.close()"
   ]
  }
 ],
 "metadata": {
  "interpreter": {
   "hash": "9518128f597d7b00dc14729602cfd87fb7b2cf75925976bcb0d0e328a830a12b"
  },
  "kernelspec": {
   "display_name": "Python 3.9.4 64-bit",
   "language": "python",
   "name": "python3"
  },
  "language_info": {
   "codemirror_mode": {
    "name": "ipython",
    "version": 3
   },
   "file_extension": ".py",
   "mimetype": "text/x-python",
   "name": "python",
   "nbconvert_exporter": "python",
   "pygments_lexer": "ipython3",
   "version": "3.9.4"
  },
  "orig_nbformat": 4
 },
 "nbformat": 4,
 "nbformat_minor": 2
}
