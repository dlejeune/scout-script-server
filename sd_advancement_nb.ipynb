{
 "cells": [
  {
   "cell_type": "code",
   "execution_count": 1,
   "metadata": {},
   "outputs": [],
   "source": [
    "import pandas as pd"
   ]
  },
  {
   "cell_type": "code",
   "execution_count": 61,
   "metadata": {},
   "outputs": [],
   "source": [
    "df = pd.read_excel(\"data.xlsx\")\n",
    "df = df.drop([\"Age\", \"Patrol\", \"Invested\"], axis=1)\n",
    "df = pd.melt(df, id_vars=[\"Name\"], var_name=\"Requirement\", value_name=\"Passed\")\n",
    "df.loc[df[\"Passed\"] == \"X\", \"Passed\"] = True\n"
   ]
  },
  {
   "cell_type": "code",
   "execution_count": 65,
   "metadata": {},
   "outputs": [
    {
     "data": {
      "text/html": [
       "<div>\n",
       "<style scoped>\n",
       "    .dataframe tbody tr th:only-of-type {\n",
       "        vertical-align: middle;\n",
       "    }\n",
       "\n",
       "    .dataframe tbody tr th {\n",
       "        vertical-align: top;\n",
       "    }\n",
       "\n",
       "    .dataframe thead th {\n",
       "        text-align: right;\n",
       "    }\n",
       "</style>\n",
       "<table border=\"1\" class=\"dataframe\">\n",
       "  <thead>\n",
       "    <tr style=\"text-align: right;\">\n",
       "      <th></th>\n",
       "      <th>Name</th>\n",
       "      <th>Requirement</th>\n",
       "      <th>Passed</th>\n",
       "      <th>Level</th>\n",
       "      <th>Theme</th>\n",
       "    </tr>\n",
       "  </thead>\n",
       "  <tbody>\n",
       "    <tr>\n",
       "      <th>0</th>\n",
       "      <td>Thomas Roomes</td>\n",
       "      <td>Promise &amp; Law</td>\n",
       "      <td>True</td>\n",
       "      <td>Membership</td>\n",
       "      <td></td>\n",
       "    </tr>\n",
       "    <tr>\n",
       "      <th>1</th>\n",
       "      <td>Ephraim Rethman</td>\n",
       "      <td>Promise &amp; Law</td>\n",
       "      <td>True</td>\n",
       "      <td>Membership</td>\n",
       "      <td></td>\n",
       "    </tr>\n",
       "    <tr>\n",
       "      <th>2</th>\n",
       "      <td>Matthew Kenyon-Wimbush</td>\n",
       "      <td>Promise &amp; Law</td>\n",
       "      <td>True</td>\n",
       "      <td>Membership</td>\n",
       "      <td></td>\n",
       "    </tr>\n",
       "    <tr>\n",
       "      <th>3</th>\n",
       "      <td>Aiden Marsh</td>\n",
       "      <td>Promise &amp; Law</td>\n",
       "      <td>True</td>\n",
       "      <td>Membership</td>\n",
       "      <td></td>\n",
       "    </tr>\n",
       "    <tr>\n",
       "      <th>4</th>\n",
       "      <td>Annabelle Deering</td>\n",
       "      <td>Promise &amp; Law</td>\n",
       "      <td>True</td>\n",
       "      <td>Membership</td>\n",
       "      <td></td>\n",
       "    </tr>\n",
       "    <tr>\n",
       "      <th>...</th>\n",
       "      <td>...</td>\n",
       "      <td>...</td>\n",
       "      <td>...</td>\n",
       "      <td>...</td>\n",
       "      <td>...</td>\n",
       "    </tr>\n",
       "    <tr>\n",
       "      <th>6025</th>\n",
       "      <td>Bridget Halse</td>\n",
       "      <td>None</td>\n",
       "      <td>NaN</td>\n",
       "      <td>End</td>\n",
       "      <td>None</td>\n",
       "    </tr>\n",
       "    <tr>\n",
       "      <th>6026</th>\n",
       "      <td>Juliette Marsh</td>\n",
       "      <td>None</td>\n",
       "      <td>NaN</td>\n",
       "      <td>End</td>\n",
       "      <td>None</td>\n",
       "    </tr>\n",
       "    <tr>\n",
       "      <th>6027</th>\n",
       "      <td>Logan Le Roux</td>\n",
       "      <td>None</td>\n",
       "      <td>NaN</td>\n",
       "      <td>End</td>\n",
       "      <td>None</td>\n",
       "    </tr>\n",
       "    <tr>\n",
       "      <th>6028</th>\n",
       "      <td>Malaika Kazadi</td>\n",
       "      <td>None</td>\n",
       "      <td>NaN</td>\n",
       "      <td>End</td>\n",
       "      <td>None</td>\n",
       "    </tr>\n",
       "    <tr>\n",
       "      <th>6029</th>\n",
       "      <td>Oliver Curling</td>\n",
       "      <td>None</td>\n",
       "      <td>NaN</td>\n",
       "      <td>End</td>\n",
       "      <td>None</td>\n",
       "    </tr>\n",
       "  </tbody>\n",
       "</table>\n",
       "<p>6030 rows × 5 columns</p>\n",
       "</div>"
      ],
      "text/plain": [
       "                        Name    Requirement Passed       Level Theme\n",
       "0              Thomas Roomes  Promise & Law   True  Membership      \n",
       "1            Ephraim Rethman  Promise & Law   True  Membership      \n",
       "2     Matthew Kenyon-Wimbush  Promise & Law   True  Membership      \n",
       "3                Aiden Marsh  Promise & Law   True  Membership      \n",
       "4          Annabelle Deering  Promise & Law   True  Membership      \n",
       "...                      ...            ...    ...         ...   ...\n",
       "6025           Bridget Halse           None    NaN         End  None\n",
       "6026          Juliette Marsh           None    NaN         End  None\n",
       "6027           Logan Le Roux           None    NaN         End  None\n",
       "6028          Malaika Kazadi           None    NaN         End  None\n",
       "6029          Oliver Curling           None    NaN         End  None\n",
       "\n",
       "[6030 rows x 5 columns]"
      ]
     },
     "execution_count": 65,
     "metadata": {},
     "output_type": "execute_result"
    }
   ],
   "source": [
    "df"
   ]
  },
  {
   "cell_type": "code",
   "execution_count": 63,
   "metadata": {},
   "outputs": [],
   "source": [
    "df[\"Name\"] = df[\"Name\"].apply(lambda x: x[0:x.find(\"\\n\")])"
   ]
  },
  {
   "cell_type": "code",
   "execution_count": 64,
   "metadata": {},
   "outputs": [],
   "source": [
    "df[[\"Level\", \"Requirement\", \"Theme\"]] = df[\"Requirement\"].str.split(\"\\n\", 2, expand=True)"
   ]
  },
  {
   "cell_type": "code",
   "execution_count": 17,
   "metadata": {},
   "outputs": [],
   "source": [
    "new_cols = []\n",
    "\n",
    "for col in df.T.columns:\n",
    "    new_cols.append(col[0:col.find(\"\\n\")])\n",
    "\n"
   ]
  },
  {
   "cell_type": "code",
   "execution_count": 18,
   "metadata": {},
   "outputs": [
    {
     "data": {
      "text/plain": [
       "['Thomas Roomes',\n",
       " 'Ephraim Rethman',\n",
       " 'Matthew Kenyon-Wimbush',\n",
       " 'Aiden Marsh',\n",
       " 'Annabelle Deering',\n",
       " 'Cameron Block',\n",
       " 'Julia Webb',\n",
       " 'Kiran Camis-Bateman',\n",
       " 'Rachel Cilliers',\n",
       " 'Timothy Begg',\n",
       " 'Timothy van Zyl-Smit',\n",
       " 'Kupakwashe Muringai',\n",
       " 'Laura Owens',\n",
       " 'Laura Hoffa',\n",
       " 'Tristan Staak',\n",
       " 'Alex Clark',\n",
       " 'Holly Raine',\n",
       " 'Joel Foord',\n",
       " 'Matthew DArcy-Evans',\n",
       " 'Oliver Hewson',\n",
       " 'Oliver Van Zyl Smit',\n",
       " 'Zoë Halse',\n",
       " 'Nina Starke',\n",
       " 'Thomas Cilliers',\n",
       " 'Ado Vandenbosch',\n",
       " 'Emily Gilham',\n",
       " 'Jason Franciscus',\n",
       " 'Mackenzie Block',\n",
       " 'Oliver Ringrose',\n",
       " 'Luke Foord',\n",
       " 'Jack Craddock',\n",
       " 'Avila van Bever Donker',\n",
       " 'Bianca Dheda',\n",
       " 'James Webb',\n",
       " 'Juliet DArcy- Evans',\n",
       " 'Rhys Eveleigh',\n",
       " 'Simon Halse',\n",
       " 'Alex Marshall',\n",
       " 'Ethan Gilham',\n",
       " 'Aidan Block',\n",
       " 'Bridget Halse',\n",
       " 'Juliette Marsh',\n",
       " 'Logan Le Roux',\n",
       " 'Malaika Kazadi',\n",
       " 'Oliver Curling']"
      ]
     },
     "execution_count": 18,
     "metadata": {},
     "output_type": "execute_result"
    }
   ],
   "source": [
    "\n",
    "new_cols"
   ]
  }
 ],
 "metadata": {
  "interpreter": {
   "hash": "9518128f597d7b00dc14729602cfd87fb7b2cf75925976bcb0d0e328a830a12b"
  },
  "kernelspec": {
   "display_name": "Python 3.9.4 64-bit",
   "language": "python",
   "name": "python3"
  },
  "language_info": {
   "codemirror_mode": {
    "name": "ipython",
    "version": 3
   },
   "file_extension": ".py",
   "mimetype": "text/x-python",
   "name": "python",
   "nbconvert_exporter": "python",
   "pygments_lexer": "ipython3",
   "version": "3.9.4"
  },
  "orig_nbformat": 4
 },
 "nbformat": 4,
 "nbformat_minor": 2
}
